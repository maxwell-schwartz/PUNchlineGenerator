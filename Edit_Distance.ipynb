{
 "cells": [
  {
   "cell_type": "markdown",
   "metadata": {},
   "source": [
    "<h3>Levenshtein Distance</h3>"
   ]
  },
  {
   "cell_type": "code",
   "execution_count": null,
   "metadata": {
    "collapsed": true
   },
   "outputs": [],
   "source": [
    "# initialize cost as an empty list\n",
    "# it will be filled in as a 2-dimensional list (list of lists)\n",
    "cost = []\n",
    "word1 = 'cat'\n",
    "word2 = 'scant'"
   ]
  },
  {
   "cell_type": "code",
   "execution_count": null,
   "metadata": {
    "collapsed": true
   },
   "outputs": [],
   "source": [
    "# for each letter in word1 + the empty string at the beginning\n",
    "# create a row\n",
    "for i in range(len(word1)+1):\n",
    "    row = []\n",
    "    # for each letter in word2 + empty string\n",
    "    # fill in the row with 0s (creating columns)\n",
    "    for j in range(len(word2)+1):\n",
    "        row.append(0)\n",
    "    # add the row (list) to cost (now list of lists)\n",
    "    cost.append(row)"
   ]
  },
  {
   "cell_type": "code",
   "execution_count": null,
   "metadata": {},
   "outputs": [],
   "source": [
    "# view the matrix of 0s we've created\n",
    "for row in cost:\n",
    "    print(row)"
   ]
  },
  {
   "cell_type": "code",
   "execution_count": null,
   "metadata": {
    "collapsed": true
   },
   "outputs": [],
   "source": [
    "# fill in the first column with our initial values\n",
    "# this is the cost of word1 -> empty string\n",
    "for i in range(len(word1)+1):\n",
    "    cost[i][0] = i\n",
    "# fill in the first row with initial values\n",
    "# cost of empty string -> word2\n",
    "for j in range(len(word2)+1):\n",
    "    cost[0][j] = j"
   ]
  },
  {
   "cell_type": "code",
   "execution_count": null,
   "metadata": {},
   "outputs": [],
   "source": [
    "# view updated matrix\n",
    "for row in cost:\n",
    "    print(row)"
   ]
  },
  {
   "cell_type": "code",
   "execution_count": null,
   "metadata": {
    "collapsed": true
   },
   "outputs": [],
   "source": [
    "# define the cost of each type of edit\n",
    "del_cost = 1\n",
    "add_cost = 1\n",
    "sub_cost = 2"
   ]
  },
  {
   "cell_type": "code",
   "execution_count": null,
   "metadata": {
    "collapsed": true
   },
   "outputs": [],
   "source": [
    "# loop through each row, skipping the first one (we already have those values)\n",
    "for i in range(1, len(word1)+1):\n",
    "    # loop through each cell in that row, also skipping the first one\n",
    "    for j in range(1, len(word2)+1):\n",
    "        # calculate the cost if we were to perform a delete\n",
    "        # look one row back (up in the matrix) to find the value there\n",
    "        # add the cost of a delete\n",
    "        del_total = cost[i-1][j] + del_cost\n",
    "        # calculate the cost if we were to perform an insertion\n",
    "        # look one column back (left in the matrix) to find the value there\n",
    "        # add the cost of an insertion\n",
    "        add_total = cost[i][j-1] + add_cost\n",
    "        # are the letters in these positions in the words the same?\n",
    "        # if so the cost is free\n",
    "        # (remember that we started looping from index 1 in both the row and column\n",
    "        # this is why we need to subtract 1 from both i and j\n",
    "        # to be at the correct letter in each word)\n",
    "        if word1[i-1] == word2[j-1]:\n",
    "            sub_total = cost[i-1][j-1]\n",
    "        # if the letters are different, get the cost of a substitution\n",
    "        # look one row back and one column back (up and to the left)\n",
    "        else:\n",
    "            sub_total = cost[i-1][j-1] + sub_cost\n",
    "        # we now have the cost of performing each action\n",
    "        # sort to find the lowest cost\n",
    "        options = [del_total, add_total, sub_total]\n",
    "        options.sort()\n",
    "        # fill in the current cell with the lowest cost\n",
    "        cost[i][j] = options[0]"
   ]
  },
  {
   "cell_type": "code",
   "execution_count": null,
   "metadata": {},
   "outputs": [],
   "source": [
    "# visualize the final matrix\n",
    "for row in cost:\n",
    "    print(row)"
   ]
  },
  {
   "cell_type": "code",
   "execution_count": null,
   "metadata": {},
   "outputs": [],
   "source": [
    "# print the last cell in the last column\n",
    "# this is the total cost\n",
    "print(cost[-1][-1])"
   ]
  },
  {
   "cell_type": "markdown",
   "metadata": {},
   "source": [
    "<h3>A Useful Library</h3>"
   ]
  },
  {
   "cell_type": "code",
   "execution_count": null,
   "metadata": {
    "collapsed": true
   },
   "outputs": [],
   "source": [
    "# https://github.com/seatgeek/fuzzywuzzy\n",
    "from fuzzywuzzy import fuzz"
   ]
  },
  {
   "cell_type": "code",
   "execution_count": null,
   "metadata": {},
   "outputs": [],
   "source": [
    "fuzz.ratio(word1, word2)"
   ]
  },
  {
   "cell_type": "code",
   "execution_count": null,
   "metadata": {},
   "outputs": [],
   "source": [
    "fuzz.ratio('this is sentence 1.', 'this is sentence 2.')"
   ]
  },
  {
   "cell_type": "code",
   "execution_count": null,
   "metadata": {
    "collapsed": true
   },
   "outputs": [],
   "source": []
  },
  {
   "cell_type": "code",
   "execution_count": null,
   "metadata": {
    "collapsed": true
   },
   "outputs": [],
   "source": []
  }
 ],
 "metadata": {
  "anaconda-cloud": {},
  "kernelspec": {
   "display_name": "Python 3",
   "language": "python",
   "name": "python3"
  },
  "language_info": {
   "codemirror_mode": {
    "name": "ipython",
    "version": 3
   },
   "file_extension": ".py",
   "mimetype": "text/x-python",
   "name": "python",
   "nbconvert_exporter": "python",
   "pygments_lexer": "ipython3",
   "version": "3.6.2"
  }
 },
 "nbformat": 4,
 "nbformat_minor": 1
}
