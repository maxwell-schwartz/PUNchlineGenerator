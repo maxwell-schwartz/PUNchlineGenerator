{
 "cells": [
  {
   "cell_type": "code",
   "execution_count": 1,
   "metadata": {},
   "outputs": [],
   "source": [
    "from nltk.corpus import cmudict\n",
    "import random\n",
    "import csv"
   ]
  },
  {
   "cell_type": "code",
   "execution_count": 2,
   "metadata": {},
   "outputs": [
    {
     "data": {
      "text/plain": [
       "[['HH', 'AH0', 'L', 'OW1'], ['HH', 'EH0', 'L', 'OW1']]"
      ]
     },
     "execution_count": 2,
     "metadata": {},
     "output_type": "execute_result"
    }
   ],
   "source": [
    "cmudict.dict()['hello']"
   ]
  },
  {
   "cell_type": "code",
   "execution_count": 3,
   "metadata": {},
   "outputs": [],
   "source": [
    "def MED(w1, w2):\n",
    "    \n",
    "    cost = []\n",
    "#     del_cost = 1\n",
    "#     add_cost = 1\n",
    "#     sub_cost = 2\n",
    "    \n",
    "    vowels = ['A', 'E', 'I', 'O', 'U']\n",
    "    voiced = ['B', 'D', 'G', 'J', 'L', 'M', 'N', 'R', 'V', 'W', 'Y', 'Z']\n",
    "    unvoiced = ['C', 'F', 'H', 'K', 'P', 'S', 'T']\n",
    "    \n",
    "    for i in range(len(w1)+1):\n",
    "        x = []\n",
    "        for j in range(len(w2)+1):\n",
    "            x.append(0)\n",
    "        cost.append(x)\n",
    "    \n",
    "    for i in range(len(w1)+1):\n",
    "        cost[i][0] = i\n",
    "    for j in range(len(w2)+1):\n",
    "        cost[0][j] = j\n",
    "        \n",
    "    # baseline costs\n",
    "    del_cost = 1\n",
    "    add_cost = 1\n",
    "    sub_cost = 1\n",
    "        \n",
    "    for i in range(1, len(w1)+1):\n",
    "        for j in range(1, len(w2)+1):\n",
    "            # delete cost for vowels should be high\n",
    "            if w1[i-1][0] in vowels:\n",
    "                del_cost = 2\n",
    "                sub_cost = 4\n",
    "            # add cost for vowels should be high\n",
    "            if w2[j-1][0] in vowels:\n",
    "                add_cost = 2\n",
    "                sub_cost = 4\n",
    "            # if they are both vowels, sub should be lower than add + del, but still high\n",
    "            if w1[i-1][0] in vowels and w2[j-1][0] in vowels:\n",
    "                sub_cost = 2\n",
    "            # if they are the same sound, the sub cost should be 0\n",
    "            if w1[i-1] == w2[j-1]:\n",
    "                sub_cost = 0\n",
    "            # get the totals\n",
    "            del_total = cost[i-1][j] + del_cost\n",
    "            add_total = cost[i][j-1] + add_cost\n",
    "            sub_total = cost[i-1][j-1] + sub_cost\n",
    "            # choose the lowest cost from the options\n",
    "            options = [del_total, add_total, sub_total]\n",
    "            options.sort()\n",
    "            cost[i][j] = options[0]\n",
    "           \n",
    "#     print(w1)\n",
    "#     print(w2)\n",
    "#     for row in cost:\n",
    "#         print(row)\n",
    "    return cost[-1][-1]"
   ]
  },
  {
   "cell_type": "code",
   "execution_count": 4,
   "metadata": {},
   "outputs": [],
   "source": [
    "w = 'banana'\n",
    "w2 = 'santa'\n",
    "res = MED(cmudict.dict()[w][0], cmudict.dict()[w2][0])"
   ]
  },
  {
   "cell_type": "code",
   "execution_count": 5,
   "metadata": {},
   "outputs": [
    {
     "data": {
      "text/plain": [
       "4"
      ]
     },
     "execution_count": 5,
     "metadata": {},
     "output_type": "execute_result"
    }
   ],
   "source": [
    "res"
   ]
  },
  {
   "cell_type": "code",
   "execution_count": 6,
   "metadata": {},
   "outputs": [],
   "source": [
    "real_list = []\n",
    "real_words = []\n",
    "with open('all_words.csv', 'r') as csvfile:\n",
    "    reader = csv.reader(csvfile)\n",
    "    for row in reader:\n",
    "        real_list.append((row[0], eval(row[1]), row[2]))\n",
    "        real_words.append(row[0])\n",
    "real_dict = {w[0]:{'pron':w[1], 'pos':w[2]} for w in real_list}"
   ]
  },
  {
   "cell_type": "code",
   "execution_count": 7,
   "metadata": {},
   "outputs": [],
   "source": [
    "real_words = set(real_words)"
   ]
  },
  {
   "cell_type": "code",
   "execution_count": 8,
   "metadata": {},
   "outputs": [],
   "source": [
    "w = 'brown'\n",
    "word1 = cmudict.dict()[w][0]\n",
    "options = []\n",
    "for entry in real_list:\n",
    "    price = MED(word1, entry[1])\n",
    "    if price < 3 and w not in entry[0]:\n",
    "        options.append(entry)"
   ]
  },
  {
   "cell_type": "code",
   "execution_count": 9,
   "metadata": {},
   "outputs": [
    {
     "data": {
      "text/plain": [
       "15"
      ]
     },
     "execution_count": 9,
     "metadata": {},
     "output_type": "execute_result"
    }
   ],
   "source": [
    "len(options)"
   ]
  },
  {
   "cell_type": "code",
   "execution_count": 10,
   "metadata": {},
   "outputs": [
    {
     "data": {
      "text/plain": [
       "[('brain', ['B', 'R', 'EY1', 'N'], 'NN'),\n",
       " ('bran', ['B', 'R', 'AE1', 'N'], 'NN'),\n",
       " ('brawn', ['B', 'R', 'AO1', 'N'], 'NN'),\n",
       " ('brin', ['B', 'R', 'IH1', 'N'], 'NN'),\n",
       " ('brine', ['B', 'R', 'AY1', 'N'], 'NN'),\n",
       " ('brough', ['B', 'R', 'AW1'], 'NN'),\n",
       " ('brow', ['B', 'R', 'AW1'], 'NN'),\n",
       " ('crown', ['K', 'R', 'AW1', 'N'], 'NN'),\n",
       " ('down', ['D', 'AW1', 'N'], 'RP'),\n",
       " ('drown', ['D', 'R', 'AW1', 'N'], 'VB')]"
      ]
     },
     "execution_count": 10,
     "metadata": {},
     "output_type": "execute_result"
    }
   ],
   "source": [
    "options[:10]"
   ]
  },
  {
   "cell_type": "code",
   "execution_count": 11,
   "metadata": {},
   "outputs": [],
   "source": [
    "def main():\n",
    "    \n",
    "    # NLTK's list of stop words:\n",
    "    stop_words = ['i', 'me', 'my', 'myself', 'we', 'our', 'ours',\n",
    "                 'ourselves', 'you', 'your', 'yours', 'yourself',\n",
    "                 'yourselves', 'he', 'him', 'his', 'himself', 'she',\n",
    "                 'her', 'hers', 'herself', 'it', 'its', 'itself',\n",
    "                 'they', 'them', 'their', 'theirs', 'themselves',\n",
    "                 'what', 'which', 'who', 'whom', 'this', 'that',\n",
    "                 'these', 'those', 'am', 'is', 'are', 'was', 'were',\n",
    "                 'be', 'been', 'being', 'have', 'has', 'had', 'having',\n",
    "                 'do', 'does', 'did', 'doing', 'a', 'an', 'the', 'and',\n",
    "                 'but', 'if', 'or', 'because', 'as', 'until', 'while',\n",
    "                 'of', 'at', 'by', 'for', 'with', 'about', 'against',\n",
    "                 'between', 'into', 'through', 'during', 'before',\n",
    "                 'after', 'above', 'below', 'to', 'from', 'up', 'down',\n",
    "                 'in', 'out', 'on', 'off', 'over', 'under', 'again',\n",
    "                 'further', 'then', 'once', 'here', 'there', 'when',\n",
    "                 'where', 'why', 'how', 'all', 'any', 'both', 'each',\n",
    "                 'few', 'more', 'most', 'other', 'some', 'such', 'no',\n",
    "                 'nor', 'not', 'only', 'own', 'same', 'so', 'than', \n",
    "                 'too', 'very', 's', 't', 'can', 'will', 'just', 'don',\n",
    "                 'should', 'now']\n",
    "    \n",
    "    phrase = input('Enter a phrase: ').lower()\n",
    "    word_list = phrase.split()\n",
    "    \n",
    "    choice_list = []\n",
    "    for word in word_list:\n",
    "        if word in stop_words:\n",
    "            choice_list.append([])\n",
    "        elif word in real_words:\n",
    "            choices = []\n",
    "            pos1 = real_dict[word]['pos']\n",
    "            w1 = real_dict[word]['pron']\n",
    "            for entry in real_list:\n",
    "                pos2 = real_dict[entry[0]]['pos']\n",
    "                if pos1 == pos2:\n",
    "                    price = MED(w1, entry[1])\n",
    "                    if price < 3 and word not in entry[0] and entry[0] not in word:\n",
    "                        choices.append(entry[0])\n",
    "            choice_list.append(choices)\n",
    "        else:\n",
    "            choice_list.append([])\n",
    "                \n",
    "    # check to see if any subs were found:\n",
    "    existing_choice = False\n",
    "    for i in choice_list:\n",
    "        if i:\n",
    "            existing_choice = True\n",
    "            break\n",
    "    # if subs are available, sub each possible word\n",
    "    if existing_choice:\n",
    "        for j in range(len(word_list)):\n",
    "            if choice_list[j]:\n",
    "                new_word = random.choice(choice_list[j])\n",
    "                word_list[j] = new_word\n",
    "        print(' '.join(word_list))\n",
    "    else:\n",
    "        print('No suitable substitution found')"
   ]
  },
  {
   "cell_type": "code",
   "execution_count": 13,
   "metadata": {},
   "outputs": [
    {
     "name": "stdout",
     "output_type": "stream",
     "text": [
      "Enter a phrase: This is a test phrase\n",
      "this is a zest pais\n"
     ]
    }
   ],
   "source": [
    "main()"
   ]
  },
  {
   "cell_type": "code",
   "execution_count": null,
   "metadata": {
    "collapsed": true
   },
   "outputs": [],
   "source": []
  }
 ],
 "metadata": {
  "anaconda-cloud": {},
  "kernelspec": {
   "display_name": "Python 3",
   "language": "python",
   "name": "python3"
  },
  "language_info": {
   "codemirror_mode": {
    "name": "ipython",
    "version": 3
   },
   "file_extension": ".py",
   "mimetype": "text/x-python",
   "name": "python",
   "nbconvert_exporter": "python",
   "pygments_lexer": "ipython3",
   "version": "3.6.2"
  }
 },
 "nbformat": 4,
 "nbformat_minor": 1
}
